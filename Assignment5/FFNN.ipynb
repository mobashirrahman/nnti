{
 "cells": [
  {
   "cell_type": "markdown",
   "metadata": {},
   "source": [
    "# Exercise 5.4 - Feedforward Neural Network (3 points)"
   ]
  },
  {
   "cell_type": "markdown",
   "metadata": {},
   "source": [
    "In the lecture, you were introduced to some problems that can be solved with a two-layer neural network but not with a single-layer one. In this practical exercise, let's try solving such a problem together and get familiar with building and training models using PyTorch."
   ]
  },
  {
   "cell_type": "markdown",
   "metadata": {},
   "source": [
    "## Import libraries"
   ]
  },
  {
   "cell_type": "code",
   "execution_count": 1,
   "metadata": {},
   "outputs": [],
   "source": [
    "import numpy as np \n",
    "import matplotlib.pyplot as plt\n",
    "import matplotlib.cm as cm \n",
    "\n",
    "import torch\n",
    "import torch.nn as nn\n",
    "from torch.utils.data import Dataset, DataLoader"
   ]
  },
  {
   "cell_type": "markdown",
   "metadata": {},
   "source": [
    "## Generating Data"
   ]
  },
  {
   "cell_type": "markdown",
   "metadata": {},
   "source": [
    "Here, we generate a dataset consisting of 3 classes in 2 dimensional space, where no two classes are linearly separable."
   ]
  },
  {
   "cell_type": "code",
   "execution_count": 2,
   "metadata": {},
   "outputs": [],
   "source": [
    "np.random.seed(352)\n",
    "torch.manual_seed(0)\n",
    "\n",
    "N = 100 # number of points per class\n",
    "C = 3 # number of classes\n",
    "\n",
    "def generate_data(N, num_class):\n",
    "    X = np.zeros((2, N*num_class)) # data matrix \n",
    "    y = np.zeros(N*num_class) # class abels\n",
    "\n",
    "    for j in range(num_class):\n",
    "        ix = range(N*j,N*(j+1))\n",
    "        r = np.linspace(0.0, 1, N) # radius\n",
    "        t = np.linspace(j*4,(j+1)*4,N) + np.random.randn(N)*0.2 # theta\n",
    "        X[:,ix] = np.c_[r*np.sin(t), r*np.cos(t)].T\n",
    "        y[ix] = j\n",
    "\n",
    "    return X.T, y\n",
    "\n",
    "# Generate data\n",
    "data, labels = generate_data(N, C)\n",
    "\n",
    "# # Uncomment to see the shape of data and labels\n",
    "# print(\"Data shape :\", data.shape)\n",
    "# print(\"Labels shape :\", labels.shape)\n"
   ]
  },
  {
   "cell_type": "markdown",
   "metadata": {},
   "source": [
    "At this point let's visualize the dataset we just generated."
   ]
  },
  {
   "cell_type": "code",
   "execution_count": null,
   "metadata": {},
   "outputs": [],
   "source": [
    "for i in range(C):\n",
    "  plt.scatter(data[i*N:(i+1)*N, 0], data[i*N:(i+1)*N, 1], label=('Class ' + str(i)))\n",
    "\n",
    "plt.xlim([-1.5, 1.5])\n",
    "plt.ylim([-1.5, 1.5])\n",
    "plt.title(\"Generated Data\")\n",
    "plt.xlabel(\"X1\")\n",
    "plt.ylabel(\"X2\")\n",
    "plt.legend()\n",
    "plt.grid(True)\n",
    "plt.show()\n",
    "    "
   ]
  },
  {
   "cell_type": "markdown",
   "metadata": {},
   "source": [
    "## 5.4.1 DataLoader (0.5 points)"
   ]
  },
  {
   "cell_type": "markdown",
   "metadata": {},
   "source": [
    "Complete the PointDataset by replacing ```NotImplemented``` with your code \n"
   ]
  },
  {
   "cell_type": "code",
   "execution_count": null,
   "metadata": {},
   "outputs": [],
   "source": [
    "class PointsDataset(Dataset):\n",
    "    def __init__(self, data, labels):\n",
    "        self.data = torch.tensor(data, dtype=torch.float)\n",
    "        self.labels = torch.tensor(labels, dtype=torch.long)\n",
    "\n",
    "    def __getitem__(self, index):\n",
    "        point = NotImplemented\n",
    "        label = NotImplemented\n",
    "        return point, label\n",
    "\n",
    "    def __len__(self):\n",
    "        NotImplemented\n",
    "\n",
    "class PointsDataLoader(DataLoader):\n",
    "    def __init__(self, *args, **kwargs):\n",
    "        super().__init__(*args, **kwargs)\n",
    "\n",
    "        self.transform = lambda x: x   \n",
    "    def __iter__(self):\n",
    "        for batch in super().__iter__():\n",
    "            yield self.transform(batch)"
   ]
  },
  {
   "cell_type": "markdown",
   "metadata": {},
   "source": [
    "## 5.4.2 Building our 2-layer neural network (0.5 points)"
   ]
  },
  {
   "cell_type": "markdown",
   "metadata": {},
   "source": [
    "<p align=\"center\"> <img src=\"https://www.ritchievink.com/img/post-9-mlp/nn_diagram_1.png\" alt=\"nn\" style=\"width: 700px;\"/> </p>\n"
   ]
  },
  {
   "cell_type": "markdown",
   "metadata": {},
   "source": [
    "In this exercise, you are required to complete a model using the layers provided by PyTorch. To complete this exercise, you can refer to the following: [Building Models with PyTorch](https://pytorch.org/tutorials/beginner/introyt/modelsyt_tutorial.html). Our model will be described as consisting of the following components: \n",
    "\n",
    "Linear Layer: $$\\mathbf{Z}^{(2)} = \\mathbf{W}^{(1)T}\\mathbf{X} $$\n",
    "\n",
    "ReLU Activation: $$\\mathbf{A}^{(2)} = \\max(\\mathbf{Z}^{(2)}, \\mathbf{0}) $$\n",
    "\n",
    "Linear Layer:$$\\mathbf{Z}^{(3)} = \\mathbf{W}^{(2)T}\\mathbf{A}^{(1)} $$\n",
    "\n",
    "Softmax Activation:$$\\mathbf{\\hat{Y}} = \\mathbf{A}^{(3)} = \\text{softmax}(\\mathbf{Z}^{(3)})$$\n"
   ]
  },
  {
   "cell_type": "code",
   "execution_count": null,
   "metadata": {},
   "outputs": [],
   "source": [
    "class FFNN(nn.Module):\n",
    "    def __init__(self, input_dim, hidden_dim, output_dim) -> None:\n",
    "        super(FFNN, self).__init__()\n",
    "        # Fill in the layers provided by PyTorch that correspond to the description.\n",
    "        NotImplemented\n",
    "\n",
    "    def forward(self, x):\n",
    "        # Perform the forward pass of the model\n",
    "        NotImplemented\n",
    "        "
   ]
  },
  {
   "cell_type": "markdown",
   "metadata": {},
   "source": [
    "## 5.4.3 Train our model (1 point)"
   ]
  },
  {
   "cell_type": "markdown",
   "metadata": {},
   "source": [
    "Here, we specify the important hyperparameters for training the model as well as provide a function to plot the decision boundary to help visualize the results after training."
   ]
  },
  {
   "cell_type": "code",
   "execution_count": 6,
   "metadata": {},
   "outputs": [],
   "source": [
    "config = {\n",
    "    \"input_dim\": 2,\n",
    "    \"hidden_dim\": 100,\n",
    "    \"output_dim\": C,\n",
    "    \"device\": torch.device(\"cuda\") if torch.cuda.is_available() else torch.device(\"cpu\"),\n",
    "    \"num_epochs\": 1000,\n",
    "    \"batch_size\": 300,\n",
    "    \"learning_rate\": 1,\n",
    "}"
   ]
  },
  {
   "cell_type": "code",
   "execution_count": null,
   "metadata": {},
   "outputs": [],
   "source": [
    "# Visualize function\n",
    "def plot_decision_boundary(model, points, labels, title=\"Decision Boundary\"):\n",
    "    model.eval()\n",
    "    model.to(\"cpu\")\n",
    "    plt.figure(figsize=(8, 6))\n",
    "    \n",
    "    # Plot the data points\n",
    "    for label in np.unique(labels):\n",
    "        label_points = points[labels.flatten() == label]\n",
    "        plt.scatter(label_points[:, 0], label_points[:, 1], label=('Class ' + str(int(label))))\n",
    "    \n",
    "    # Create grid to evaluate the model\n",
    "    x_min, x_max = points[:, 0].min() - 1, points[:, 0].max() + 1\n",
    "    y_min, y_max = points[:, 1].min() - 1, points[:, 1].max() + 1\n",
    "    xx, yy = np.meshgrid(np.linspace(x_min, x_max, 100), np.linspace(y_min, y_max, 100))\n",
    "    X0 = torch.tensor(np.c_[xx.ravel(), yy.ravel()], dtype=torch.float)\n",
    "    Z = model(X0).argmax(dim=1)\n",
    "    Z = Z.reshape(xx.shape)\n",
    "    \n",
    "    # Plot decision boundary\n",
    "    plt.contourf(xx, yy, Z, alpha=0.2, cmap=plt.cm.coolwarm)\n",
    "    plt.title(title)\n",
    "    plt.xlabel(\"X1\")\n",
    "    plt.ylabel(\"X2\")\n",
    "    plt.legend()\n",
    "    plt.grid(True)\n",
    "    plt.show()"
   ]
  },
  {
   "cell_type": "markdown",
   "metadata": {},
   "source": [
    "<b>(1 point) Complete the train function below to train the model. </b>"
   ]
  },
  {
   "cell_type": "markdown",
   "metadata": {},
   "source": [
    "To complete this exercise, you can refer [Training with PyTorch](https://pytorch.org/tutorials/beginner/introyt/trainingyt.html#the-training-loop) for a more detailed understanding."
   ]
  },
  {
   "cell_type": "code",
   "execution_count": null,
   "metadata": {},
   "outputs": [],
   "source": [
    "def train(config, data, labels):\n",
    "    # Create out data loader\n",
    "    points_dataset = PointsDataset(data, labels)\n",
    "    points_dataloader = PointsDataLoader(points_dataset, batch_size=config[\"batch_size\"], shuffle=True)\n",
    "\n",
    "    # Init our model \n",
    "    model = FFNN(config[\"input_dim\"], config[\"hidden_dim\"], config[\"output_dim\"])\n",
    "    model.to(config[\"device\"])\n",
    "\n",
    "    # Loss function and optimizer\n",
    "    criterion = nn.CrossEntropyLoss()\n",
    "    optimizer = torch.optim.SGD(model.parameters(), lr=config[\"learning_rate\"])\n",
    "\n",
    "    model.train()\n",
    "    for epoch in range(config[\"num_epochs\"]):\n",
    "        running_loss = 0\n",
    "        correct = 0\n",
    "\n",
    "        for batch_point, batch_label in points_dataloader:\n",
    "            batch_point = batch_point.to(config[\"device\"])\n",
    "            batch_label = batch_label.to(config[\"device\"])\n",
    "            \n",
    "            ####################  TODOs   #########################\n",
    "            # Compute the output of the model and compute the loss\n",
    "            output = NotImplemented\n",
    "            loss = NotImplemented\n",
    "\n",
    "            ##########  TODOs   #########\n",
    "            # Zero your gradients for every batch\n",
    "            # Compute the gradients of loss\n",
    "            # Adjust learning weights\n",
    "            NotImplemented\n",
    "            ##############################\n",
    "            \n",
    "            running_loss += loss.item()\n",
    "            correct += (output.argmax(1) == batch_label).sum().item()\n",
    "\n",
    "        if (epoch + 1) % 100 == 0:\n",
    "            print(f'Epoch {epoch+1} | Running Loss: {running_loss/len(points_dataloader)} | Accuracy: {correct/len(points_dataset)}')\n",
    "            \n",
    "    plot_decision_boundary(model, data, labels, title=\"Decision Boundaries\")\n",
    "\n"
   ]
  },
  {
   "cell_type": "code",
   "execution_count": null,
   "metadata": {},
   "outputs": [],
   "source": [
    "train(config, data, labels)"
   ]
  },
  {
   "cell_type": "markdown",
   "metadata": {},
   "source": [
    "## 5.4.4 Let's do some experiments. (1 point)"
   ]
  },
  {
   "cell_type": "markdown",
   "metadata": {},
   "source": [
    "<b> (0.5 points) Train the model again with ```config_1``` and explain what you observe. Provide an explanation for your observation (maximum 2 sentences). </b>"
   ]
  },
  {
   "cell_type": "markdown",
   "metadata": {},
   "source": [
    "With the hyperparameters provided in ```config``` , we changed ```hidden_dim``` from 100 to 5."
   ]
  },
  {
   "cell_type": "code",
   "execution_count": 10,
   "metadata": {},
   "outputs": [],
   "source": [
    "config_1 = {\n",
    "    \"input_dim\": 2,\n",
    "    \"hidden_dim\": 5,\n",
    "    \"output_dim\": C,\n",
    "    \"device\": torch.device(\"cuda\") if torch.cuda.is_available() else torch.device(\"cpu\"),\n",
    "    \"num_epochs\": 1000,\n",
    "    \"batch_size\": 300,\n",
    "    \"learning_rate\": 1,\n",
    "}"
   ]
  },
  {
   "cell_type": "code",
   "execution_count": null,
   "metadata": {},
   "outputs": [],
   "source": [
    "# Run this cell to train the model with config_1 \n",
    "train(config_1, data, labels)"
   ]
  },
  {
   "cell_type": "markdown",
   "metadata": {},
   "source": [
    "Your answer:\n",
    "\n",
    "- What do you observe?\n",
    "\n",
    "\n",
    "- Explain your observation\n",
    "\n"
   ]
  },
  {
   "cell_type": "markdown",
   "metadata": {},
   "source": [
    "<b> (0.5 points) Train the model again with ```config_2``` below and explain what you observe. Provide an explanation for your observation (maximum 2 sentences). </b>"
   ]
  },
  {
   "cell_type": "code",
   "execution_count": null,
   "metadata": {},
   "outputs": [],
   "source": [
    "# In config_2, we keep the hyperparameters the same as in the config, except for increasing the learning rate from 1 to 100.\n",
    "config_2 = {\n",
    "    \"input_dim\": 2,\n",
    "    \"hidden_dim\": 100,\n",
    "    \"output_dim\": C,\n",
    "    \"device\": torch.device(\"cuda\") if torch.cuda.is_available() else torch.device(\"cpu\"),\n",
    "    \"num_epochs\": 1000,\n",
    "    \"batch_size\": 300,\n",
    "    \"learning_rate\": 100,\n",
    "}\n",
    "# Train the model with config_2  \n",
    "train(config_2, data, labels)"
   ]
  },
  {
   "cell_type": "markdown",
   "metadata": {},
   "source": [
    "Your answer:\n",
    "\n",
    "- What do you observe?\n",
    "\n",
    "\n",
    "- Explain your observation\n",
    "\n"
   ]
  },
  {
   "cell_type": "markdown",
   "metadata": {},
   "source": []
  }
 ],
 "metadata": {
  "kernelspec": {
   "display_name": "saar",
   "language": "python",
   "name": "python3"
  },
  "language_info": {
   "codemirror_mode": {
    "name": "ipython",
    "version": 3
   },
   "file_extension": ".py",
   "mimetype": "text/x-python",
   "name": "python",
   "nbconvert_exporter": "python",
   "pygments_lexer": "ipython3",
   "version": "3.10.13"
  }
 },
 "nbformat": 4,
 "nbformat_minor": 2
}
