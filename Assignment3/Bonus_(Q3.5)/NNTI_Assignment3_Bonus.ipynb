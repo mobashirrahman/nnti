{
 "cells": [
  {
   "cell_type": "markdown",
   "metadata": {
    "id": "z2EPGD8Uy5Rc"
   },
   "source": [
    "# NNTI Assignment 3\n",
    "\n",
    "Name 1: <br>\n",
    "Student id 1: <br>\n",
    "Email 1: <br>\n",
    "\n",
    "Name 2: <br>\n",
    "Student id 2:  <br>\n",
    "Email 2:  <br>\n",
    "\n",
    "Name 3: <br>\n",
    "Student id 3:  <br>\n",
    "Email 3: <br>\n",
    "\n",
    "**Instructions:** Read each question carefully. <br/>\n",
    "Make sure you appropriately comment your code wherever required. Your final submission should contain the completed Notebook and the respective  files for any additional exercises necessary. There is no need to resubmit the data files should they be provided separately. <br>\n",
    "\n",
    "\n",
    "Upload the zipped folder on CMS. Please follow the naming convention of **Name1_id1_Name2_id2_Name3_id3.zip **. Only one member of the group should make the submisssion.\n"
   ]
  },
  {
   "cell_type": "markdown",
   "metadata": {
    "id": "9BMC2pdurVcD"
   },
   "source": [
    "Linear Regression is a useful method to know of, but it can only model linear relationships. The problem is that real world datasets can have a lot of non-linear relationships as well. In such cases, non-linear methods are used, one such method is **polynomial regression**."
   ]
  },
  {
   "cell_type": "code",
   "execution_count": 63,
   "metadata": {
    "executionInfo": {
     "elapsed": 736,
     "status": "ok",
     "timestamp": 1730633375031,
     "user": {
      "displayName": "Monseej Purkayastha",
      "userId": "09437515445831882048"
     },
     "user_tz": -330
    },
    "id": "34UvcHHrGfDi"
   },
   "outputs": [],
   "source": [
    "import numpy as np\n",
    "import matplotlib.pyplot as plt\n",
    "from sklearn.linear_model import LinearRegression\n",
    "from sklearn.preprocessing import PolynomialFeatures\n",
    "from sklearn.metrics import mean_squared_error"
   ]
  },
  {
   "cell_type": "markdown",
   "metadata": {
    "id": "Yw492kvwtrVC"
   },
   "source": [
    "### a. Data loading: Load the data from the files `X.npy` and `y.npy` and visualize them. [1 point]\n"
   ]
  },
  {
   "cell_type": "code",
   "execution_count": null,
   "metadata": {
    "colab": {
     "base_uri": "https://localhost:8080/",
     "height": 584
    },
    "executionInfo": {
     "elapsed": 798,
     "status": "ok",
     "timestamp": 1730633429981,
     "user": {
      "displayName": "Monseej Purkayastha",
      "userId": "09437515445831882048"
     },
     "user_tz": -330
    },
    "id": "E5RWs7aZqOj0",
    "outputId": "ca3a0de7-be32-4ac9-f6dc-e68afa9d68a8"
   },
   "outputs": [],
   "source": [
    "# Load the data\n",
    "##TODO##\n",
    "\n",
    "# Plot the data\n",
    "##TODO##"
   ]
  },
  {
   "cell_type": "markdown",
   "metadata": {
    "id": "LqNLEuwJuJzf"
   },
   "source": [
    "### b. Regression Models: [0.5+1+0.5 points]\n",
    "\n",
    "i. Build a [Linear Regression](https://scikit-learn.org/1.5/modules/linear_model.html) model on the provided dataset. Calculate and print the RMSE for this model.\n",
    "\n",
    "ii. Using the given list of polynomial degrees, build [Polynomial Regression](https://scikit-learn.org/1.5/modules/preprocessing.html#generating-polynomial-features) models on the given dataset for each degree and print the RMSE.\n",
    "\n",
    "iii. Save the predictions for each model (Linear and different versions of  Polynomial) and create a plot to visualize the predictions against the actual data points.\n"
   ]
  },
  {
   "cell_type": "code",
   "execution_count": null,
   "metadata": {
    "executionInfo": {
     "elapsed": 35,
     "status": "ok",
     "timestamp": 1730633377619,
     "user": {
      "displayName": "Monseej Purkayastha",
      "userId": "09437515445831882048"
     },
     "user_tz": -330
    },
    "id": "xQOiIO7atbPl"
   },
   "outputs": [],
   "source": [
    "degrees = [2, 3, 4] # Polynomial Regression for different degrees\n",
    "##TODO##"
   ]
  },
  {
   "cell_type": "code",
   "execution_count": null,
   "metadata": {
    "colab": {
     "base_uri": "https://localhost:8080/"
    },
    "executionInfo": {
     "elapsed": 26,
     "status": "ok",
     "timestamp": 1730633377621,
     "user": {
      "displayName": "Monseej Purkayastha",
      "userId": "09437515445831882048"
     },
     "user_tz": -330
    },
    "id": "mrNUm566yMA5",
    "outputId": "fde2a5f0-232f-4402-dd08-793e92961e58"
   },
   "outputs": [],
   "source": [
    "# Print summary of RMSE scores\n",
    "##TODO##"
   ]
  },
  {
   "cell_type": "code",
   "execution_count": null,
   "metadata": {
    "id": "s85_YmH0yXGg"
   },
   "outputs": [],
   "source": []
  }
 ],
 "metadata": {
  "colab": {
   "authorship_tag": "ABX9TyNBUGUnqeDCNnURSMRPVHql",
   "provenance": []
  },
  "kernelspec": {
   "display_name": "Python 3",
   "name": "python3"
  },
  "language_info": {
   "name": "python"
  }
 },
 "nbformat": 4,
 "nbformat_minor": 0
}
